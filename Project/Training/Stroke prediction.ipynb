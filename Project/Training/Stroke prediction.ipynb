{
 "cells": [
  {
   "cell_type": "code",
   "execution_count": null,
   "id": "b414ebdb",
   "metadata": {},
   "outputs": [],
   "source": [
    "import warnings\n",
    "warnings.filterwarnings('always')\n",
    "warnings.filterwarnings('ignore')\n",
    "import numpy as np \n",
    "import pandas as pd \n",
    "import matplotlib.pyplot as plt \n",
    "from matplotlib import style \n",
    "import seaborn as sns \n",
    "%matplotlib inline\n",
    "style.use('fivethirtyeight')\n",
    "sns.set(style='whitegrid',color_codes=True)"
   ]
  },
  {
   "cell_type": "code",
   "execution_count": 2,
   "id": "12df0f4b",
   "metadata": {},
   "outputs": [],
   "source": [
    "from sklearn.linear_model import LogisticRegression \n",
    "from sklearn.svm import LinearSVC,SVC\n",
    "from sklearn.neighbors import KNeighborsClassifier\n",
    "from sklearn.ensemble import RandomForestClassifier,GradientBoostingClassifier,AdaBoostClassifier \n",
    "from sklearn.tree import DecisionTreeClassifier \n",
    "from sklearn.naive_bayes import GaussianNB \n",
    "import xgboost as xgb \n",
    "import lightgbm as lgbm \n",
    "from sklearn.ensemble import AdaBoostClassifier \n",
    "from sklearn.model_selection import train_test_split,cross_validate \n",
    "from sklearn.model_selection import KFold \n",
    "from sklearn.model_selection import GridSearchCV\n",
    "from sklearn.preprocessing import MinMaxScaler,StandardScaler,LabelEncoder\n",
    "from sklearn.metrics import mean_squared_log_error,mean_squared_error, r2_score,mean_absolute_error\n",
    "from sklearn.metrics import accuracy_score,precision_score,recall_score,f1_score\n",
    "from sklearn.metrics import classification_report \n",
    "from sklearn.metrics import confusion_matrix \n",
    "from sklearn.model_selection import cross_val_score"
   ]
  },
  {
   "cell_type": "code",
   "execution_count": null,
   "id": "f5f1a8b9",
   "metadata": {},
   "outputs": [],
   "source": [
    "df = pd.read_csv(r'Provide the directory path for the \"Healthcare_Dataset_Stroke_Data.csv\" here, such as \"C:/Project/Dataset/Healthcare_Dataset_Stroke_Data.csv\"')\n",
    "df. head ()"
   ]
  },
  {
   "cell_type": "code",
   "execution_count": null,
   "id": "2115137d",
   "metadata": {},
   "outputs": [],
   "source": [
    "df. shape"
   ]
  },
  {
   "cell_type": "code",
   "execution_count": null,
   "id": "a63e1d9a",
   "metadata": {},
   "outputs": [],
   "source": [
    "df.info()"
   ]
  },
  {
   "cell_type": "code",
   "execution_count": null,
   "id": "2bb0baef",
   "metadata": {},
   "outputs": [],
   "source": [
    "fig, axes = plt.subplots(nrows = 5, ncols = 2, figsize = (12, 20))\n",
    "sns.boxplot(x = 'avg_glucose_level', data = df, ax=axes [0][0])\n",
    "sns.boxplot(x = 'age', data = df, ax=axes [1][0])\n",
    "sns.boxplot(x = 'bmi', data = df, ax=axes [2][0])\n",
    "sns.boxplot(x = 'smoking_status',y = 'age', hue = 'stroke',data = df, ax=axes[3][0])\n",
    "sns.boxplot(x = 'hypertension', y ='age', hue = 'stroke', data = df, ax=axes[3] [1])\n",
    "sns.boxplot(x = 'heart_disease',y = 'age', hue = 'stroke', data = df, ax=axes [0][1])\n",
    "sns.boxplot(x = 'ever_married',y = 'age', hue = 'stroke', data = df, ax=axes [1][1])\n",
    "sns.boxplot(x = 'work_type',y = 'age',hue = 'stroke', data = df, ax=axes[2][1])\n",
    "sns.boxplot(x = 'Residence_type', y ='age', hue = 'stroke',data = df, ax = axes[4][0]) \n",
    "sns.boxplot(x = 'smoking_status', y = 'age', hue = 'stroke',data = df,ax = axes [4][1])"
   ]
  },
  {
   "cell_type": "code",
   "execution_count": null,
   "id": "f2ecc72d",
   "metadata": {},
   "outputs": [],
   "source": [
    "sns.barplot(x = 'stroke' ,y='smoking_status', data = df)"
   ]
  },
  {
   "cell_type": "code",
   "execution_count": null,
   "id": "2a79b8d3",
   "metadata": {},
   "outputs": [],
   "source": [
    "replace_values = {'Unknown': 'never smoked'}\n",
    "df = df.replace({'smoking_status' : replace_values})\n",
    "df.head()"
   ]
  },
  {
   "cell_type": "code",
   "execution_count": null,
   "id": "5dc58d67",
   "metadata": {},
   "outputs": [],
   "source": [
    "df.describe()"
   ]
  },
  {
   "cell_type": "code",
   "execution_count": null,
   "id": "212fdae5",
   "metadata": {},
   "outputs": [],
   "source": [
    "df=df.drop('id',axis=1)\n",
    "df.shape"
   ]
  },
  {
   "cell_type": "code",
   "execution_count": null,
   "id": "e31eecbf",
   "metadata": {},
   "outputs": [],
   "source": [
    "df.isnull().sum()"
   ]
  },
  {
   "cell_type": "code",
   "execution_count": 12,
   "id": "956fd6bc",
   "metadata": {},
   "outputs": [],
   "source": [
    "df.dropna(inplace=True)"
   ]
  },
  {
   "cell_type": "code",
   "execution_count": null,
   "id": "8196429f",
   "metadata": {},
   "outputs": [],
   "source": [
    "df.isnull().sum()"
   ]
  },
  {
   "cell_type": "code",
   "execution_count": 14,
   "id": "cb35b137",
   "metadata": {},
   "outputs": [],
   "source": [
    "def remove_outliers(data):\n",
    "    arr=[]\n",
    "    q1=np.percentile(data, 25) \n",
    "    q3=np.percentile(data, 75) \n",
    "    iqr=q3-q1 \n",
    "    mi=q1-(1.5*iqr) \n",
    "    ma=q3+(1.5*iqr)\n",
    "    for i in list(data):\n",
    "        if i<mi:\n",
    "            i=mi \n",
    "            arr.append(i)\n",
    "        elif i>ma:\n",
    "            i=ma \n",
    "            arr.append(i)\n",
    "        else:\n",
    "            arr.append(i)\n",
    "    return arr"
   ]
  },
  {
   "cell_type": "code",
   "execution_count": null,
   "id": "9daf6fbc",
   "metadata": {},
   "outputs": [],
   "source": [
    "df['bmi'] = remove_outliers (df['bmi'])\n",
    "df['avg_glucose_level'] = remove_outliers(df['avg_glucose_level'])\n",
    "print('Outliers successfully removed')"
   ]
  },
  {
   "cell_type": "code",
   "execution_count": null,
   "id": "4970e27b",
   "metadata": {},
   "outputs": [],
   "source": [
    "fig, axes = plt.subplots(nrows = 2, ncols = 2, figsize = (10, 5))\n",
    "sns.boxplot(x = 'bmi', data = df, ax=axes [1][0])\n",
    "sns.boxplot(x = 'avg_glucose_level', data = df, ax=axes [0][0])"
   ]
  },
  {
   "cell_type": "code",
   "execution_count": null,
   "id": "afe5eccf",
   "metadata": {},
   "outputs": [],
   "source": [
    "for i in ['gender', 'ever_married', 'work_type', 'Residence_type', 'smoking_status']:\n",
    "    print(df[i].unique())"
   ]
  },
  {
   "cell_type": "code",
   "execution_count": 18,
   "id": "27a4d094",
   "metadata": {},
   "outputs": [],
   "source": [
    "from sklearn.preprocessing import LabelEncoder\n",
    "le1 = LabelEncoder()\n",
    "le2 = LabelEncoder()\n",
    "df['Residence_type'] = le1.fit_transform(df['Residence_type'])\n",
    "df['ever_married'] = le2.fit_transform(df['ever_married'])"
   ]
  },
  {
   "cell_type": "code",
   "execution_count": null,
   "id": "9a01fcb5",
   "metadata": {},
   "outputs": [],
   "source": [
    "import joblib\n",
    "joblib.dump(le1,\"res_transform\")\n",
    "joblib.dump(le2,\"mar_transform\")"
   ]
  },
  {
   "cell_type": "code",
   "execution_count": null,
   "id": "fd42d825",
   "metadata": {},
   "outputs": [],
   "source": [
    "df.shape"
   ]
  },
  {
   "cell_type": "code",
   "execution_count": null,
   "id": "46424209",
   "metadata": {},
   "outputs": [],
   "source": [
    "df.iloc[0,:]"
   ]
  },
  {
   "cell_type": "code",
   "execution_count": null,
   "id": "750d6dbc",
   "metadata": {},
   "outputs": [],
   "source": [
    "df.head()"
   ]
  },
  {
   "cell_type": "code",
   "execution_count": 23,
   "id": "98d1af82",
   "metadata": {},
   "outputs": [],
   "source": [
    "x = df.iloc[:,0:10].values\n",
    "y = df.iloc[:,10].values"
   ]
  },
  {
   "cell_type": "code",
   "execution_count": 24,
   "id": "0edfb942",
   "metadata": {},
   "outputs": [],
   "source": [
    "from sklearn.compose import ColumnTransformer \n",
    "from sklearn.preprocessing import OneHotEncoder\n",
    "ct= ColumnTransformer([(\"onehot\", OneHotEncoder (drop= 'first'), [0,5,9])], remainder= \"passthrough\")\n",
    "x=ct.fit_transform(x)"
   ]
  },
  {
   "cell_type": "code",
   "execution_count": null,
   "id": "0b240e65",
   "metadata": {},
   "outputs": [],
   "source": [
    "joblib.dump(ct,\"column\")"
   ]
  },
  {
   "cell_type": "code",
   "execution_count": null,
   "id": "e71848bc",
   "metadata": {},
   "outputs": [],
   "source": [
    "x"
   ]
  },
  {
   "cell_type": "code",
   "execution_count": null,
   "id": "5eca9a7f",
   "metadata": {},
   "outputs": [],
   "source": [
    "x[0]"
   ]
  },
  {
   "cell_type": "code",
   "execution_count": null,
   "id": "d6fef32c",
   "metadata": {},
   "outputs": [],
   "source": [
    "x.shape"
   ]
  },
  {
   "cell_type": "code",
   "execution_count": null,
   "id": "4e934d8e",
   "metadata": {},
   "outputs": [],
   "source": [
    "y.shape"
   ]
  },
  {
   "cell_type": "code",
   "execution_count": null,
   "id": "feb088b9",
   "metadata": {},
   "outputs": [],
   "source": [
    "sns.countplot(y)"
   ]
  },
  {
   "cell_type": "code",
   "execution_count": null,
   "id": "6f5669cf",
   "metadata": {},
   "outputs": [],
   "source": [
    "from imblearn.over_sampling import SMOTE\n",
    "sm = SMOTE()\n",
    "x_res, y_res = sm.fit_resample(x,y)\n",
    "print(\"Before OverSampling, counts of label '1': {}\".format(sum(y==1)))\n",
    "print(\"Before OverSampling, counts of label '0': {} \\n\".format(sum (y==0)))\n",
    "\n",
    "print('After OverSampling, the shape of train_X: {}'.format(x_res.shape))\n",
    "print('After OverSampling, the shape of train_y: {} \\n'.format (y_res.shape))\n",
    "\n",
    "print (\"After OverSampling, counts of label '1': {}\".format(sum(y_res==1)))\n",
    "print(\"After OverSampling, counts of label '0': {}\".format(sum(y_res==0)))"
   ]
  },
  {
   "cell_type": "code",
   "execution_count": null,
   "id": "8d430ce0",
   "metadata": {},
   "outputs": [],
   "source": [
    "sns.countplot(y_res)"
   ]
  },
  {
   "cell_type": "code",
   "execution_count": 33,
   "id": "199c408d",
   "metadata": {},
   "outputs": [],
   "source": [
    "from sklearn.model_selection import train_test_split\n",
    "x_train, x_test, y_train, y_test = train_test_split(x_res, y_res, test_size = 0.2, random_state = 42)"
   ]
  },
  {
   "cell_type": "code",
   "execution_count": null,
   "id": "45f16df1",
   "metadata": {},
   "outputs": [],
   "source": [
    "dtc = DecisionTreeClassifier()\n",
    "dtc.fit(x_train,y_train)\n",
    "dtc_pred = dtc.predict(x_test)\n",
    "print('***Decision Tree Model Results***')\n",
    "print(confusion_matrix(dtc_pred, y_test))\n",
    "print(classification_report(dtc_pred, y_test))"
   ]
  },
  {
   "cell_type": "code",
   "execution_count": null,
   "id": "cb32aa2c",
   "metadata": {},
   "outputs": [],
   "source": [
    "rf = RandomForestClassifier()\n",
    "rf.fit(x_train, y_train)\n",
    "rf_pred = rf.predict(x_test)\n",
    "print('***Random Forest***')\n",
    "print(confusion_matrix(rf_pred, y_test))\n",
    "print(classification_report(rf_pred, y_test))"
   ]
  },
  {
   "cell_type": "code",
   "execution_count": null,
   "id": "a01a9eab",
   "metadata": {},
   "outputs": [],
   "source": [
    "lr = LogisticRegression()\n",
    "lr.fit(x_train, y_train)\n",
    "lr_pred = lr.predict(x_test)\n",
    "print(confusion_matrix(lr_pred, y_test))\n",
    "print('***Logistic Regression***')\n",
    "print (classification_report(lr_pred, y_test))"
   ]
  },
  {
   "cell_type": "code",
   "execution_count": null,
   "id": "2965724e",
   "metadata": {},
   "outputs": [],
   "source": [
    "svc = SVC()\n",
    "svc.fit(x_train, y_train)\n",
    "svc_pred = svc.predict(x_test)\n",
    "print('***Support vector classifier***')\n",
    "print (confusion_matrix(svc_pred, y_test))\n",
    "print(classification_report(svc_pred, y_test))"
   ]
  },
  {
   "cell_type": "code",
   "execution_count": null,
   "id": "f0794ae7",
   "metadata": {},
   "outputs": [],
   "source": [
    "knn = KNeighborsClassifier()\n",
    "knn.fit(x_train, y_train)\n",
    "knn_pred = knn.predict(x_test)\n",
    "print('***K-Nearest Neighbours***')\n",
    "print(confusion_matrix(knn_pred, y_test))\n",
    "print(classification_report(knn_pred, y_test))"
   ]
  },
  {
   "cell_type": "code",
   "execution_count": 39,
   "id": "901b95db",
   "metadata": {},
   "outputs": [],
   "source": [
    "cross_valid_scores={}"
   ]
  },
  {
   "cell_type": "code",
   "execution_count": null,
   "id": "e810e17d",
   "metadata": {},
   "outputs": [],
   "source": [
    "%%time\n",
    "parameters = {\n",
    "\"max_depth\": [3, 5, 7, 9, 11, 13],\n",
    "}\n",
    "model_dtc = DecisionTreeClassifier(\n",
    "random_state=42,\n",
    "class_weight='balanced',\n",
    ")\n",
    "model_dtc = GridSearchCV(\n",
    "model_dtc, \n",
    "parameters, \n",
    "cv=5,\n",
    ")\n",
    "model_dtc.fit(x_train, y_train)\n",
    "model_dtc_pred = model_dtc.predict(x_test)\n",
    "print('*** Applying Grid Search to Decision tree***')\n",
    "print(classification_report(model_dtc_pred, y_test))\n",
    "print(f'Best parameters {model_dtc.best_params_}')\n",
    "print(\n",
    "f'Mean cross-validated accuracy score of the best estimator: ' + \\\n",
    "f'{model_dtc.best_score_:.3f}'\n",
    ")\n",
    "cross_valid_scores['desicion_tree'] = model_dtc.best_score_\n",
    "print('-----')"
   ]
  },
  {
   "cell_type": "code",
   "execution_count": null,
   "id": "57794ce5",
   "metadata": {},
   "outputs": [],
   "source": [
    "%%time\n",
    "parameters = {\n",
    "    \"n_estimators\": [5, 10, 15, 20, 25],\n",
    "    \"max_depth\": [3, 5, 7, 9, 11, 13],\n",
    "}\n",
    "\n",
    "model_rf = RandomForestClassifier(\n",
    "    random_state=42,\n",
    "    class_weight='balanced',\n",
    ")\n",
    "\n",
    "model_rf = GridSearchCV(\n",
    "    model_rf,\n",
    "    parameters,\n",
    "    cv=5,\n",
    ")\n",
    "\n",
    "model_rf.fit(x_train, y_train)\n",
    "model_rf_pred = model_rf.predict(x_test)\n",
    "\n",
    "print('*** Applying Grid Search to Random Forest ***')\n",
    "print(classification_report(model_rf_pred, y_test))\n",
    "print(f'Best parameters: {model_rf.best_params_}')\n",
    "print(f'Mean cross-validated accuracy score of the best_estimator: '+ \\\n",
    "      f'{model_rf.best_score_:.3f}')\n",
    "cross_valid_scores['random_forest'] = model_rf.best_score_\n",
    "print('-----')\n"
   ]
  },
  {
   "cell_type": "code",
   "execution_count": null,
   "id": "738706de",
   "metadata": {},
   "outputs": [],
   "source": [
    "import joblib\n",
    "joblib.dump(model_rf,\"model\")"
   ]
  }
 ],
 "metadata": {
  "kernelspec": {
   "display_name": "Python 3",
   "language": "python",
   "name": "python3"
  },
  "language_info": {
   "codemirror_mode": {
    "name": "ipython",
    "version": 3
   },
   "file_extension": ".py",
   "mimetype": "text/x-python",
   "name": "python",
   "nbconvert_exporter": "python",
   "pygments_lexer": "ipython3",
   "version": "3.13.1"
  }
 },
 "nbformat": 4,
 "nbformat_minor": 5
}
